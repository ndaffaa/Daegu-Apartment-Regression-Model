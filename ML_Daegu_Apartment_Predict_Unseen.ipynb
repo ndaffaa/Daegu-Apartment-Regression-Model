{
 "cells": [
  {
   "cell_type": "markdown",
   "metadata": {},
   "source": [
    "## Created by: Naufal Daffa Abdurahman"
   ]
  },
  {
   "cell_type": "markdown",
   "metadata": {},
   "source": [
    "# 2. Import Library"
   ]
  },
  {
   "cell_type": "code",
   "execution_count": 24,
   "metadata": {},
   "outputs": [],
   "source": [
    "# Data Manipulation and Analysis\n",
    "import pandas as pd\n",
    "import numpy as np\n",
    "\n",
    "# Machine Learning Models\n",
    "from sklearn.ensemble import RandomForestRegressor\n",
    "\n",
    "# Saving and Loading Models\n",
    "import pickle\n",
    "\n",
    "#import google cloud library\n",
    "from google.cloud import bigquery\n",
    "from google.cloud import storage\n",
    "from google.cloud import aiplatform"
   ]
  },
  {
   "cell_type": "code",
   "execution_count": 25,
   "metadata": {},
   "outputs": [
    {
     "data": {
      "text/html": [
       "<div>\n",
       "<style scoped>\n",
       "    .dataframe tbody tr th:only-of-type {\n",
       "        vertical-align: middle;\n",
       "    }\n",
       "\n",
       "    .dataframe tbody tr th {\n",
       "        vertical-align: top;\n",
       "    }\n",
       "\n",
       "    .dataframe thead th {\n",
       "        text-align: right;\n",
       "    }\n",
       "</style>\n",
       "<table border=\"1\" class=\"dataframe\">\n",
       "  <thead>\n",
       "    <tr style=\"text-align: right;\">\n",
       "      <th></th>\n",
       "      <th>HallwayType</th>\n",
       "      <th>TimeToSubway</th>\n",
       "      <th>SubwayStation</th>\n",
       "      <th>N_FacilitiesNearBy(ETC)</th>\n",
       "      <th>N_FacilitiesNearBy(PublicOffice)</th>\n",
       "      <th>N_SchoolNearBy(University)</th>\n",
       "      <th>N_Parkinglot(Basement)</th>\n",
       "      <th>YearBuilt</th>\n",
       "      <th>N_FacilitiesInApt</th>\n",
       "      <th>Size(sqf)</th>\n",
       "    </tr>\n",
       "  </thead>\n",
       "  <tbody>\n",
       "    <tr>\n",
       "      <th>0</th>\n",
       "      <td>terraced</td>\n",
       "      <td>0-5min</td>\n",
       "      <td>Kyungbuk_uni_hospital</td>\n",
       "      <td>5.0</td>\n",
       "      <td>7.0</td>\n",
       "      <td>5.0</td>\n",
       "      <td>1321.0</td>\n",
       "      <td>2014</td>\n",
       "      <td>10</td>\n",
       "      <td>1795</td>\n",
       "    </tr>\n",
       "    <tr>\n",
       "      <th>1</th>\n",
       "      <td>corridor</td>\n",
       "      <td>15min~20min</td>\n",
       "      <td>Sin-nam</td>\n",
       "      <td>0.0</td>\n",
       "      <td>1.0</td>\n",
       "      <td>2.0</td>\n",
       "      <td>0.0</td>\n",
       "      <td>1986</td>\n",
       "      <td>4</td>\n",
       "      <td>500</td>\n",
       "    </tr>\n",
       "  </tbody>\n",
       "</table>\n",
       "</div>"
      ],
      "text/plain": [
       "  HallwayType TimeToSubway          SubwayStation  N_FacilitiesNearBy(ETC)  \\\n",
       "0    terraced       0-5min  Kyungbuk_uni_hospital                      5.0   \n",
       "1    corridor  15min~20min                Sin-nam                      0.0   \n",
       "\n",
       "   N_FacilitiesNearBy(PublicOffice)  N_SchoolNearBy(University)  \\\n",
       "0                               7.0                         5.0   \n",
       "1                               1.0                         2.0   \n",
       "\n",
       "   N_Parkinglot(Basement)  YearBuilt  N_FacilitiesInApt  Size(sqf)  \n",
       "0                  1321.0       2014                 10       1795  \n",
       "1                     0.0       1986                  4        500  "
      ]
     },
     "execution_count": 25,
     "metadata": {},
     "output_type": "execute_result"
    }
   ],
   "source": [
    "new_test_data = pd.DataFrame({\n",
    "    \"HallwayType\": [\"terraced\", \"corridor\"],\n",
    "    \"TimeToSubway\": [\"0-5min\", \"15min~20min\"],\n",
    "    \"SubwayStation\": [\"Kyungbuk_uni_hospital\",\"Sin-nam\"],\n",
    "    \"N_FacilitiesNearBy(ETC)\": [5.0, 0.0],\n",
    "    \"N_FacilitiesNearBy(PublicOffice)\": [7.0, 1.0],\n",
    "    \"N_SchoolNearBy(University)\": [5.0, 2.0],\n",
    "    \"N_Parkinglot(Basement)\": [1321.0, 0.0],\n",
    "    \"YearBuilt\": [2014, 1986],\n",
    "    \"N_FacilitiesInApt\": [10, 4],\n",
    "    \"Size(sqf)\": [1795, 500]\n",
    "})\n",
    "new_test_data"
   ]
  },
  {
   "cell_type": "markdown",
   "metadata": {},
   "source": [
    "# Data Cleaning (new_test_data)"
   ]
  },
  {
   "cell_type": "code",
   "execution_count": 26,
   "metadata": {},
   "outputs": [],
   "source": [
    "# Change data type from float to integer\n",
    "new_test_data['N_FacilitiesNearBy(ETC)'] = new_test_data['N_FacilitiesNearBy(ETC)'].astype('int64')\n",
    "new_test_data['N_FacilitiesNearBy(PublicOffice)'] = new_test_data['N_FacilitiesNearBy(PublicOffice)'].astype('int64')\n",
    "new_test_data['N_SchoolNearBy(University)'] = new_test_data['N_SchoolNearBy(University)'].astype('int64')\n",
    "new_test_data['N_Parkinglot(Basement)'] = new_test_data['N_Parkinglot(Basement)'].astype('int64')"
   ]
  },
  {
   "cell_type": "code",
   "execution_count": 27,
   "metadata": {},
   "outputs": [],
   "source": [
    "# rename category in 'TimeToSubway'\n",
    "new_test_data.loc[new_test_data['TimeToSubway'] == '0-5min', 'TimeToSubway']='0~5min'\n",
    "new_test_data.loc[new_test_data['TimeToSubway'] == 'no_bus_stop_nearby', 'TimeToSubway']='no_subway_nearby'"
   ]
  },
  {
   "cell_type": "markdown",
   "metadata": {},
   "source": [
    "# Setting Variable Need for Google Cloud"
   ]
  },
  {
   "cell_type": "code",
   "execution_count": 28,
   "metadata": {},
   "outputs": [],
   "source": [
    "## set up authentication using services account \n",
    "import os\n",
    "# Authenticate using service account\n",
    "os.environ['GOOGLE_APPLICATION_CREDENTIALS'] = \"/home/ndaffaabdurahman/daffa-021/sa-development.json\"\n",
    "\n",
    "# os.environ['GOOGLE_APPLICATION_CREDENTIALS'] = \"../vertex-ai-ml/dti-ds-31329ac0651d.json\"\n",
    "\n",
    "project_id = 'dti-ds'\n",
    "dataset_id = 'daffa_dataset_021'\n",
    "table_id = 'test_kaggle_file_no_target'\n",
    "region = 'us-central1'\n",
    "bucket_name = 'daffa_gcs_021'\n",
    "blob_name = 'data/test_kaggle_file_no_target.csv'\n",
    "\n",
    "model_name = 'rf_model.sav'"
   ]
  },
  {
   "cell_type": "markdown",
   "metadata": {},
   "source": [
    "# Google Cloud Storage"
   ]
  },
  {
   "cell_type": "markdown",
   "metadata": {},
   "source": [
    "## Retrieve from Google Cloud Storage"
   ]
  },
  {
   "cell_type": "code",
   "execution_count": 29,
   "metadata": {},
   "outputs": [
    {
     "name": "stdout",
     "output_type": "stream",
     "text": [
      "Read model succeeded\n"
     ]
    }
   ],
   "source": [
    "# Retrieve the model from Google Cloud Storage\n",
    "try : \n",
    "    storage_client = storage.Client(project=project_id)\n",
    "    bucket = storage_client.get_bucket(bucket_name) # Add bucket name\n",
    "    blob_model = bucket.blob(f'model/{model_name}')\n",
    "    blob_model.download_to_filename('rf_model.sav')\n",
    "\n",
    "    print (\"Read model succeeded\")\n",
    "except:\n",
    "    raise TypeError(\"An exception occurred\")"
   ]
  },
  {
   "cell_type": "code",
   "execution_count": 30,
   "metadata": {},
   "outputs": [
    {
     "name": "stdout",
     "output_type": "stream",
     "text": [
      "Read Data succeeded\n"
     ]
    }
   ],
   "source": [
    "# Retrieve the dataset from Google Cloud Storage\n",
    "try : \n",
    "    storage_client = storage.Client(project=project_id)\n",
    "    bucket = storage_client.get_bucket(bucket_name) # Add bucket name\n",
    "    blob_model = bucket.blob(blob_name)\n",
    "    blob_model.download_to_filename('test_kaggle_file_no_target.csv')\n",
    "\n",
    "    print (\"Read Data succeeded\")\n",
    "except:\n",
    "    raise TypeError(\"An exception occurred\")"
   ]
  },
  {
   "cell_type": "markdown",
   "metadata": {},
   "source": [
    "# Model Prediction"
   ]
  },
  {
   "cell_type": "code",
   "execution_count": 31,
   "metadata": {},
   "outputs": [
    {
     "data": {
      "text/plain": [
       "array([410427.85869076,  57857.95152454])"
      ]
     },
     "execution_count": 31,
     "metadata": {},
     "output_type": "execute_result"
    }
   ],
   "source": [
    "# Load the model\n",
    "with open('rf_model.sav', 'rb') as f:\n",
    "    loaded_model = pickle.load(f)\n",
    "\n",
    "y_pred_cloud_new_data = loaded_model.predict(new_test_data)\n",
    "y_pred_cloud_new_data"
   ]
  },
  {
   "cell_type": "code",
   "execution_count": 32,
   "metadata": {},
   "outputs": [
    {
     "data": {
      "text/html": [
       "<div>\n",
       "<style scoped>\n",
       "    .dataframe tbody tr th:only-of-type {\n",
       "        vertical-align: middle;\n",
       "    }\n",
       "\n",
       "    .dataframe tbody tr th {\n",
       "        vertical-align: top;\n",
       "    }\n",
       "\n",
       "    .dataframe thead th {\n",
       "        text-align: right;\n",
       "    }\n",
       "</style>\n",
       "<table border=\"1\" class=\"dataframe\">\n",
       "  <thead>\n",
       "    <tr style=\"text-align: right;\">\n",
       "      <th></th>\n",
       "      <th>HallwayType</th>\n",
       "      <th>TimeToSubway</th>\n",
       "      <th>SubwayStation</th>\n",
       "      <th>N_FacilitiesNearBy(ETC)</th>\n",
       "      <th>N_FacilitiesNearBy(PublicOffice)</th>\n",
       "      <th>N_SchoolNearBy(University)</th>\n",
       "      <th>N_Parkinglot(Basement)</th>\n",
       "      <th>YearBuilt</th>\n",
       "      <th>N_FacilitiesInApt</th>\n",
       "      <th>Size(sqf)</th>\n",
       "      <th>SalePrice Prediction</th>\n",
       "    </tr>\n",
       "  </thead>\n",
       "  <tbody>\n",
       "    <tr>\n",
       "      <th>0</th>\n",
       "      <td>terraced</td>\n",
       "      <td>0~5min</td>\n",
       "      <td>Kyungbuk_uni_hospital</td>\n",
       "      <td>5</td>\n",
       "      <td>7</td>\n",
       "      <td>5</td>\n",
       "      <td>1321</td>\n",
       "      <td>2014</td>\n",
       "      <td>10</td>\n",
       "      <td>1795</td>\n",
       "      <td>410427.858691</td>\n",
       "    </tr>\n",
       "    <tr>\n",
       "      <th>1</th>\n",
       "      <td>corridor</td>\n",
       "      <td>15min~20min</td>\n",
       "      <td>Sin-nam</td>\n",
       "      <td>0</td>\n",
       "      <td>1</td>\n",
       "      <td>2</td>\n",
       "      <td>0</td>\n",
       "      <td>1986</td>\n",
       "      <td>4</td>\n",
       "      <td>500</td>\n",
       "      <td>57857.951525</td>\n",
       "    </tr>\n",
       "  </tbody>\n",
       "</table>\n",
       "</div>"
      ],
      "text/plain": [
       "  HallwayType TimeToSubway          SubwayStation  N_FacilitiesNearBy(ETC)  \\\n",
       "0    terraced       0~5min  Kyungbuk_uni_hospital                        5   \n",
       "1    corridor  15min~20min                Sin-nam                        0   \n",
       "\n",
       "   N_FacilitiesNearBy(PublicOffice)  N_SchoolNearBy(University)  \\\n",
       "0                                 7                           5   \n",
       "1                                 1                           2   \n",
       "\n",
       "   N_Parkinglot(Basement)  YearBuilt  N_FacilitiesInApt  Size(sqf)  \\\n",
       "0                    1321       2014                 10       1795   \n",
       "1                       0       1986                  4        500   \n",
       "\n",
       "   SalePrice Prediction  \n",
       "0         410427.858691  \n",
       "1          57857.951525  "
      ]
     },
     "execution_count": 32,
     "metadata": {},
     "output_type": "execute_result"
    }
   ],
   "source": [
    "new_test_cloud = new_test_data.copy()\n",
    "new_test_cloud['SalePrice Prediction'] = y_pred_cloud_new_data\n",
    "new_test_cloud"
   ]
  },
  {
   "cell_type": "markdown",
   "metadata": {},
   "source": [
    "# Data Cleaning (unseen data)"
   ]
  },
  {
   "cell_type": "code",
   "execution_count": 33,
   "metadata": {},
   "outputs": [],
   "source": [
    "# rename category in 'TimeToSubway'\n",
    "auto_cloud.loc[auto_cloud['TimeToSubway'] == '0-5min', 'TimeToSubway']='0~5min'\n",
    "auto_cloud.loc[auto_cloud['TimeToSubway'] == 'no_bus_stop_nearby', 'TimeToSubway']='no_subway_nearby'"
   ]
  },
  {
   "cell_type": "code",
   "execution_count": 40,
   "metadata": {},
   "outputs": [],
   "source": [
    "# Renaming columns that contain '(' and replacing them with '_'\n",
    "auto_cloud.columns = auto_cloud.columns.str.replace(r'\\(', '_').str.replace(r')', '')"
   ]
  },
  {
   "cell_type": "code",
   "execution_count": 34,
   "metadata": {},
   "outputs": [
    {
     "data": {
      "text/plain": [
       "array([225928.81391301, 310229.71502519, 159093.36448749, 149578.21630001,\n",
       "       213810.81400878,  52928.84082903, 215493.66928462, 257436.40896325,\n",
       "        99890.59536958, 183474.97852183, 213810.81400878, 196573.89349337,\n",
       "       384334.92294358])"
      ]
     },
     "execution_count": 34,
     "metadata": {},
     "output_type": "execute_result"
    }
   ],
   "source": [
    "# loaded_model.predict(X_test.iloc[3:13])\n",
    "y_pred_file_cloud = loaded_model.predict(auto_cloud.sample(frac=1))\n",
    "y_pred_file_cloud[:13]"
   ]
  },
  {
   "cell_type": "code",
   "execution_count": 41,
   "metadata": {},
   "outputs": [
    {
     "data": {
      "text/html": [
       "<div>\n",
       "<style scoped>\n",
       "    .dataframe tbody tr th:only-of-type {\n",
       "        vertical-align: middle;\n",
       "    }\n",
       "\n",
       "    .dataframe tbody tr th {\n",
       "        vertical-align: top;\n",
       "    }\n",
       "\n",
       "    .dataframe thead th {\n",
       "        text-align: right;\n",
       "    }\n",
       "</style>\n",
       "<table border=\"1\" class=\"dataframe\">\n",
       "  <thead>\n",
       "    <tr style=\"text-align: right;\">\n",
       "      <th></th>\n",
       "      <th>HallwayType</th>\n",
       "      <th>TimeToSubway</th>\n",
       "      <th>SubwayStation</th>\n",
       "      <th>N_FacilitiesNearBy_ETC</th>\n",
       "      <th>N_FacilitiesNearBy_PublicOffice</th>\n",
       "      <th>N_SchoolNearBy_University</th>\n",
       "      <th>N_Parkinglot_Basement</th>\n",
       "      <th>YearBuilt</th>\n",
       "      <th>N_FacilitiesInApt</th>\n",
       "      <th>Size_sqf</th>\n",
       "    </tr>\n",
       "  </thead>\n",
       "  <tbody>\n",
       "    <tr>\n",
       "      <th>0</th>\n",
       "      <td>corridor</td>\n",
       "      <td>0~5min</td>\n",
       "      <td>Kyungbuk_uni_hospital</td>\n",
       "      <td>0.0</td>\n",
       "      <td>3.0</td>\n",
       "      <td>2.0</td>\n",
       "      <td>0.0</td>\n",
       "      <td>1978</td>\n",
       "      <td>3</td>\n",
       "      <td>903</td>\n",
       "    </tr>\n",
       "    <tr>\n",
       "      <th>1</th>\n",
       "      <td>corridor</td>\n",
       "      <td>0~5min</td>\n",
       "      <td>Kyungbuk_uni_hospital</td>\n",
       "      <td>0.0</td>\n",
       "      <td>3.0</td>\n",
       "      <td>2.0</td>\n",
       "      <td>0.0</td>\n",
       "      <td>1978</td>\n",
       "      <td>3</td>\n",
       "      <td>903</td>\n",
       "    </tr>\n",
       "    <tr>\n",
       "      <th>2</th>\n",
       "      <td>corridor</td>\n",
       "      <td>0~5min</td>\n",
       "      <td>Kyungbuk_uni_hospital</td>\n",
       "      <td>0.0</td>\n",
       "      <td>3.0</td>\n",
       "      <td>2.0</td>\n",
       "      <td>0.0</td>\n",
       "      <td>1978</td>\n",
       "      <td>3</td>\n",
       "      <td>903</td>\n",
       "    </tr>\n",
       "    <tr>\n",
       "      <th>3</th>\n",
       "      <td>corridor</td>\n",
       "      <td>0~5min</td>\n",
       "      <td>Kyungbuk_uni_hospital</td>\n",
       "      <td>0.0</td>\n",
       "      <td>3.0</td>\n",
       "      <td>2.0</td>\n",
       "      <td>0.0</td>\n",
       "      <td>1978</td>\n",
       "      <td>3</td>\n",
       "      <td>903</td>\n",
       "    </tr>\n",
       "    <tr>\n",
       "      <th>4</th>\n",
       "      <td>corridor</td>\n",
       "      <td>0~5min</td>\n",
       "      <td>Kyungbuk_uni_hospital</td>\n",
       "      <td>0.0</td>\n",
       "      <td>3.0</td>\n",
       "      <td>2.0</td>\n",
       "      <td>0.0</td>\n",
       "      <td>1978</td>\n",
       "      <td>3</td>\n",
       "      <td>903</td>\n",
       "    </tr>\n",
       "    <tr>\n",
       "      <th>...</th>\n",
       "      <td>...</td>\n",
       "      <td>...</td>\n",
       "      <td>...</td>\n",
       "      <td>...</td>\n",
       "      <td>...</td>\n",
       "      <td>...</td>\n",
       "      <td>...</td>\n",
       "      <td>...</td>\n",
       "      <td>...</td>\n",
       "      <td>...</td>\n",
       "    </tr>\n",
       "    <tr>\n",
       "      <th>1763</th>\n",
       "      <td>mixed</td>\n",
       "      <td>15min~20min</td>\n",
       "      <td>Myung-duk</td>\n",
       "      <td>1.0</td>\n",
       "      <td>5.0</td>\n",
       "      <td>4.0</td>\n",
       "      <td>79.0</td>\n",
       "      <td>1992</td>\n",
       "      <td>3</td>\n",
       "      <td>644</td>\n",
       "    </tr>\n",
       "    <tr>\n",
       "      <th>1764</th>\n",
       "      <td>mixed</td>\n",
       "      <td>15min~20min</td>\n",
       "      <td>Myung-duk</td>\n",
       "      <td>1.0</td>\n",
       "      <td>5.0</td>\n",
       "      <td>4.0</td>\n",
       "      <td>79.0</td>\n",
       "      <td>1992</td>\n",
       "      <td>3</td>\n",
       "      <td>644</td>\n",
       "    </tr>\n",
       "    <tr>\n",
       "      <th>1765</th>\n",
       "      <td>mixed</td>\n",
       "      <td>15min~20min</td>\n",
       "      <td>Myung-duk</td>\n",
       "      <td>1.0</td>\n",
       "      <td>5.0</td>\n",
       "      <td>4.0</td>\n",
       "      <td>79.0</td>\n",
       "      <td>1992</td>\n",
       "      <td>3</td>\n",
       "      <td>644</td>\n",
       "    </tr>\n",
       "    <tr>\n",
       "      <th>1766</th>\n",
       "      <td>mixed</td>\n",
       "      <td>15min~20min</td>\n",
       "      <td>Myung-duk</td>\n",
       "      <td>1.0</td>\n",
       "      <td>5.0</td>\n",
       "      <td>4.0</td>\n",
       "      <td>79.0</td>\n",
       "      <td>1992</td>\n",
       "      <td>3</td>\n",
       "      <td>644</td>\n",
       "    </tr>\n",
       "    <tr>\n",
       "      <th>1767</th>\n",
       "      <td>mixed</td>\n",
       "      <td>15min~20min</td>\n",
       "      <td>Myung-duk</td>\n",
       "      <td>1.0</td>\n",
       "      <td>5.0</td>\n",
       "      <td>4.0</td>\n",
       "      <td>79.0</td>\n",
       "      <td>1992</td>\n",
       "      <td>3</td>\n",
       "      <td>644</td>\n",
       "    </tr>\n",
       "  </tbody>\n",
       "</table>\n",
       "<p>1768 rows × 10 columns</p>\n",
       "</div>"
      ],
      "text/plain": [
       "     HallwayType TimeToSubway          SubwayStation  N_FacilitiesNearBy_ETC  \\\n",
       "0       corridor       0~5min  Kyungbuk_uni_hospital                     0.0   \n",
       "1       corridor       0~5min  Kyungbuk_uni_hospital                     0.0   \n",
       "2       corridor       0~5min  Kyungbuk_uni_hospital                     0.0   \n",
       "3       corridor       0~5min  Kyungbuk_uni_hospital                     0.0   \n",
       "4       corridor       0~5min  Kyungbuk_uni_hospital                     0.0   \n",
       "...          ...          ...                    ...                     ...   \n",
       "1763       mixed  15min~20min              Myung-duk                     1.0   \n",
       "1764       mixed  15min~20min              Myung-duk                     1.0   \n",
       "1765       mixed  15min~20min              Myung-duk                     1.0   \n",
       "1766       mixed  15min~20min              Myung-duk                     1.0   \n",
       "1767       mixed  15min~20min              Myung-duk                     1.0   \n",
       "\n",
       "      N_FacilitiesNearBy_PublicOffice  N_SchoolNearBy_University  \\\n",
       "0                                 3.0                        2.0   \n",
       "1                                 3.0                        2.0   \n",
       "2                                 3.0                        2.0   \n",
       "3                                 3.0                        2.0   \n",
       "4                                 3.0                        2.0   \n",
       "...                               ...                        ...   \n",
       "1763                              5.0                        4.0   \n",
       "1764                              5.0                        4.0   \n",
       "1765                              5.0                        4.0   \n",
       "1766                              5.0                        4.0   \n",
       "1767                              5.0                        4.0   \n",
       "\n",
       "      N_Parkinglot_Basement  YearBuilt  N_FacilitiesInApt  Size_sqf  \n",
       "0                       0.0       1978                  3       903  \n",
       "1                       0.0       1978                  3       903  \n",
       "2                       0.0       1978                  3       903  \n",
       "3                       0.0       1978                  3       903  \n",
       "4                       0.0       1978                  3       903  \n",
       "...                     ...        ...                ...       ...  \n",
       "1763                   79.0       1992                  3       644  \n",
       "1764                   79.0       1992                  3       644  \n",
       "1765                   79.0       1992                  3       644  \n",
       "1766                   79.0       1992                  3       644  \n",
       "1767                   79.0       1992                  3       644  \n",
       "\n",
       "[1768 rows x 10 columns]"
      ]
     },
     "execution_count": 41,
     "metadata": {},
     "output_type": "execute_result"
    }
   ],
   "source": [
    "auto_cloud"
   ]
  },
  {
   "cell_type": "markdown",
   "metadata": {},
   "source": [
    "# Send to BigQuery"
   ]
  },
  {
   "cell_type": "code",
   "execution_count": 42,
   "metadata": {},
   "outputs": [
    {
     "name": "stdout",
     "output_type": "stream",
     "text": [
      "Loaded 1768 rows into dti-ds.daffa_dataset_021.unseen_test_kaggle_file_no_target\n"
     ]
    }
   ],
   "source": [
    "from google.cloud import bigquery\n",
    "\n",
    "table_id = 'unseen_test_kaggle_file_no_target' \n",
    "\n",
    "# Construct a BigQuery client object.\n",
    "client = bigquery.Client()\n",
    "\n",
    "# Define the full table ID\n",
    "table_full_id = f\"{client.project}.{dataset_id}.{table_id}\"\n",
    "\n",
    "# Define the table schema (you could skip this part, but make sure for column naming w/o empty spaces)\n",
    "# Make sure the column name without \"space\" so change it to underscore \"_\" or just without any space\n",
    "# schema = [\n",
    "#     bigquery.SchemaField(\"Vehicle Class\", \"STRING\"),\n",
    "#     bigquery.SchemaField(\"Coverage\", \"STRING\"),\n",
    "#     bigquery.SchemaField(\"Renew_Offer_Type\", \"STRING\"),\n",
    "#     bigquery.SchemaField(\"EmploymentStatus\", \"STRING\"),\n",
    "#     bigquery.SchemaField(\"MaritalStatus\", \"STRING\"),\n",
    "#     bigquery.SchemaField(\"Education\", \"STRING\"),\n",
    "#     bigquery.SchemaField(\"Number_of_Policies\", \"FLOAT\"),\n",
    "#     bigquery.SchemaField(\"MonthlyPremiumAuto\", \"FLOAT\"),\n",
    "#     bigquery.SchemaField(\"TotalClaimAmount\", \"FLOAT\"),\n",
    "#     bigquery.SchemaField(\"Income\", \"FLOAT\"),\n",
    "#     bigquery.SchemaField(\"CLVPrediction\", \"FLOAT\")\n",
    "# ]\n",
    "\n",
    "auto_cloud.columns = ['_'.join(i.split(' ')) for i in auto_cloud.columns] # make sure no empty space on columns' name\n",
    "\n",
    "# Create the table\n",
    "# table = bigquery.Table(table_full_id)\n",
    "# table = client.create_table(table, exists_ok=True)\n",
    "# print(f\"Created table {table.project}.{table.dataset_id}.{table.table_id}\")\n",
    "\n",
    "# Load the DataFrame into the BigQuery table\n",
    "job = client.load_table_from_dataframe(auto_cloud, table_full_id) # your df predicted name, and table full id above\n",
    "\n",
    "# Wait for the job to complete\n",
    "job.result()\n",
    "print(f\"Loaded {job.output_rows} rows into {table_full_id}\")"
   ]
  },
  {
   "cell_type": "code",
   "execution_count": null,
   "metadata": {},
   "outputs": [],
   "source": []
  }
 ],
 "metadata": {
  "kernelspec": {
   "display_name": "Python 3",
   "language": "python",
   "name": "python3"
  },
  "language_info": {
   "codemirror_mode": {
    "name": "ipython",
    "version": 3
   },
   "file_extension": ".py",
   "mimetype": "text/x-python",
   "name": "python",
   "nbconvert_exporter": "python",
   "pygments_lexer": "ipython3",
   "version": "3.11.9"
  }
 },
 "nbformat": 4,
 "nbformat_minor": 2
}
